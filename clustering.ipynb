{
 "cells": [
  {
   "cell_type": "code",
   "execution_count": 1,
   "id": "07751019",
   "metadata": {},
   "outputs": [],
   "source": [
    "import pandas as pd\n",
    "import numpy as np"
   ]
  },
  {
   "cell_type": "code",
   "execution_count": 2,
   "id": "4dbd2eb2",
   "metadata": {},
   "outputs": [],
   "source": [
    "df = pd.read_excel(\"C:\\\\Users\\\\Lenovo\\\\Downloads\\\\cc.xlsx\",1)"
   ]
  },
  {
   "cell_type": "code",
   "execution_count": 3,
   "id": "811e709e",
   "metadata": {},
   "outputs": [
    {
     "data": {
      "text/html": [
       "<div>\n",
       "<style scoped>\n",
       "    .dataframe tbody tr th:only-of-type {\n",
       "        vertical-align: middle;\n",
       "    }\n",
       "\n",
       "    .dataframe tbody tr th {\n",
       "        vertical-align: top;\n",
       "    }\n",
       "\n",
       "    .dataframe thead th {\n",
       "        text-align: right;\n",
       "    }\n",
       "</style>\n",
       "<table border=\"1\" class=\"dataframe\">\n",
       "  <thead>\n",
       "    <tr style=\"text-align: right;\">\n",
       "      <th></th>\n",
       "      <th>customer_id</th>\n",
       "      <th>order_item_id</th>\n",
       "      <th>price</th>\n",
       "      <th>freight_value</th>\n",
       "      <th>payment_value</th>\n",
       "      <th>frequency</th>\n",
       "      <th>recency</th>\n",
       "    </tr>\n",
       "  </thead>\n",
       "  <tbody>\n",
       "    <tr>\n",
       "      <th>0</th>\n",
       "      <td>b4afeb58ac51bc903c5362286c6a5cfe</td>\n",
       "      <td>20</td>\n",
       "      <td>154.40</td>\n",
       "      <td>93.84</td>\n",
       "      <td>992.96</td>\n",
       "      <td>8.0</td>\n",
       "      <td>288</td>\n",
       "    </tr>\n",
       "    <tr>\n",
       "      <th>1</th>\n",
       "      <td>08a0a61f98f22952682f7e463ef2d43e</td>\n",
       "      <td>21</td>\n",
       "      <td>131.94</td>\n",
       "      <td>76.74</td>\n",
       "      <td>1252.08</td>\n",
       "      <td>6.0</td>\n",
       "      <td>170</td>\n",
       "    </tr>\n",
       "    <tr>\n",
       "      <th>2</th>\n",
       "      <td>cc3f0f9c25480b83c834bf8af1435a29</td>\n",
       "      <td>21</td>\n",
       "      <td>23.88</td>\n",
       "      <td>NaN</td>\n",
       "      <td>426.60</td>\n",
       "      <td>6.0</td>\n",
       "      <td>9</td>\n",
       "    </tr>\n",
       "    <tr>\n",
       "      <th>3</th>\n",
       "      <td>620732fed5579e0bdfdddee02aad4c54</td>\n",
       "      <td>12</td>\n",
       "      <td>173.40</td>\n",
       "      <td>84.66</td>\n",
       "      <td>774.18</td>\n",
       "      <td>6.0</td>\n",
       "      <td>692</td>\n",
       "    </tr>\n",
       "    <tr>\n",
       "      <th>4</th>\n",
       "      <td>109f80397e4897bbcf56313c25850332</td>\n",
       "      <td>21</td>\n",
       "      <td>131.60</td>\n",
       "      <td>61.24</td>\n",
       "      <td>1157.04</td>\n",
       "      <td>6.0</td>\n",
       "      <td>112</td>\n",
       "    </tr>\n",
       "  </tbody>\n",
       "</table>\n",
       "</div>"
      ],
      "text/plain": [
       "                        customer_id  order_item_id   price  freight_value  \\\n",
       "0  b4afeb58ac51bc903c5362286c6a5cfe             20  154.40          93.84   \n",
       "1  08a0a61f98f22952682f7e463ef2d43e             21  131.94          76.74   \n",
       "2  cc3f0f9c25480b83c834bf8af1435a29             21   23.88            NaN   \n",
       "3  620732fed5579e0bdfdddee02aad4c54             12  173.40          84.66   \n",
       "4  109f80397e4897bbcf56313c25850332             21  131.60          61.24   \n",
       "\n",
       "   payment_value  frequency  recency  \n",
       "0         992.96        8.0      288  \n",
       "1        1252.08        6.0      170  \n",
       "2         426.60        6.0        9  \n",
       "3         774.18        6.0      692  \n",
       "4        1157.04        6.0      112  "
      ]
     },
     "execution_count": 3,
     "metadata": {},
     "output_type": "execute_result"
    }
   ],
   "source": [
    "df.head()"
   ]
  },
  {
   "cell_type": "markdown",
   "id": "f41e7cd6",
   "metadata": {},
   "source": [
    "The dataset contains the following features."
   ]
  },
  {
   "cell_type": "markdown",
   "id": "595b43f7",
   "metadata": {},
   "source": [
    "\n",
    "Attribute     |   Description\n",
    "----------------|-------------\n",
    "customer_id\t  |  Customer unique id\n",
    "order_item_id\t| Order Id\n",
    "price\t       | Price of Item\n",
    "freight_value\t |Freight cost of items\n",
    "payment_value\t|Total sum of a customer's                        purchases\n",
    "frequency\t|     No of days in which a customer                   made a repeat purchase\n",
    "recency\t     |   customer's age in days at time                   of most recent purchase"
   ]
  },
  {
   "cell_type": "code",
   "execution_count": null,
   "id": "2243c494",
   "metadata": {},
   "outputs": [],
   "source": []
  },
  {
   "cell_type": "code",
   "execution_count": 4,
   "id": "160a7903",
   "metadata": {},
   "outputs": [
    {
     "data": {
      "text/html": [
       "<div>\n",
       "<style scoped>\n",
       "    .dataframe tbody tr th:only-of-type {\n",
       "        vertical-align: middle;\n",
       "    }\n",
       "\n",
       "    .dataframe tbody tr th {\n",
       "        vertical-align: top;\n",
       "    }\n",
       "\n",
       "    .dataframe thead th {\n",
       "        text-align: right;\n",
       "    }\n",
       "</style>\n",
       "<table border=\"1\" class=\"dataframe\">\n",
       "  <thead>\n",
       "    <tr style=\"text-align: right;\">\n",
       "      <th></th>\n",
       "      <th>customer_id</th>\n",
       "      <th>order_item_id</th>\n",
       "      <th>price</th>\n",
       "      <th>freight_value</th>\n",
       "      <th>payment_value</th>\n",
       "      <th>frequency</th>\n",
       "      <th>recency</th>\n",
       "    </tr>\n",
       "  </thead>\n",
       "  <tbody>\n",
       "  </tbody>\n",
       "</table>\n",
       "</div>"
      ],
      "text/plain": [
       "Empty DataFrame\n",
       "Columns: [customer_id, order_item_id, price, freight_value, payment_value, frequency, recency]\n",
       "Index: []"
      ]
     },
     "execution_count": 4,
     "metadata": {},
     "output_type": "execute_result"
    }
   ],
   "source": [
    "df[df.duplicated()]"
   ]
  },
  {
   "cell_type": "code",
   "execution_count": 5,
   "id": "7243f64a",
   "metadata": {},
   "outputs": [
    {
     "name": "stdout",
     "output_type": "stream",
     "text": [
      "customer_id\n",
      ".............\n",
      "['b4afeb58ac51bc903c5362286c6a5cfe' '08a0a61f98f22952682f7e463ef2d43e'\n",
      " 'cc3f0f9c25480b83c834bf8af1435a29' ... 'e11ea1af27379694ad1f1fcd1b16ee6c'\n",
      " '463ebb2bb8608b2f8f3e3b04351601d1' '2e7204294e95c84c31df5254dad1b0ce']\n",
      "b4afeb58ac51bc903c5362286c6a5cfe    1\n",
      "9302710415234bb43b1971474511267d    1\n",
      "841de7bc0b593cc61eff8ca0fb1dfef8    1\n",
      "e3ba5dc186f78dc33ea7d927d8005119    1\n",
      "a4e18e14c32019f5f66dba4c4db390fa    1\n",
      "                                   ..\n",
      "fffecc9f79fd8c764f843e9951b11341    1\n",
      "ff2f5165c3155db5bb78c26df35a565a    1\n",
      "001028b78fd413e19704b3867c369d3a    1\n",
      "16f5cb910633b2a0a8d93b9da0168381    1\n",
      "2e7204294e95c84c31df5254dad1b0ce    1\n",
      "Name: customer_id, Length: 96770, dtype: int64\n",
      "order_item_id\n",
      ".............\n",
      "[20 21 12 15 10  6  3  2  1]\n",
      "1     87510\n",
      "3      7246\n",
      "6      1131\n",
      "2       465\n",
      "10      292\n",
      "15       70\n",
      "21       48\n",
      "12        7\n",
      "20        1\n",
      "Name: order_item_id, dtype: int64\n",
      "price\n",
      ".............\n",
      "[154.4  131.94  23.88 ... 593.36 125.62  34.54]\n",
      "count    96770.000000\n",
      "mean       119.682151\n",
      "std        122.655268\n",
      "min          0.850000\n",
      "25%         45.500000\n",
      "50%         84.990000\n",
      "75%        148.900000\n",
      "max        982.000000\n",
      "Name: price, dtype: float64\n",
      "<class 'pandas.core.series.Series'>\n",
      "RangeIndex: 96770 entries, 0 to 96769\n",
      "Series name: price\n",
      "Non-Null Count  Dtype  \n",
      "--------------  -----  \n",
      "96770 non-null  float64\n",
      "dtypes: float64(1)\n",
      "memory usage: 756.1 KB\n",
      "None\n",
      "freight_value\n",
      ".............\n",
      "[93.84 76.74   nan ... 86.53 98.13 60.86]\n",
      "count    87024.000000\n",
      "mean        21.708607\n",
      "std         16.220297\n",
      "min          0.000000\n",
      "25%         13.780000\n",
      "50%         17.060000\n",
      "75%         23.620000\n",
      "max        312.410000\n",
      "Name: freight_value, dtype: float64\n",
      "<class 'pandas.core.series.Series'>\n",
      "RangeIndex: 96770 entries, 0 to 96769\n",
      "Series name: freight_value\n",
      "Non-Null Count  Dtype  \n",
      "--------------  -----  \n",
      "87024 non-null  float64\n",
      "dtypes: float64(1)\n",
      "memory usage: 756.1 KB\n",
      "None\n",
      "payment_value\n",
      ".............\n",
      "[ 992.96 1252.08  426.6  ...  167.79  550.4  1028.3 ]\n",
      "count    96770.000000\n",
      "mean       162.523740\n",
      "std        168.489635\n",
      "min          9.590000\n",
      "25%         62.250000\n",
      "50%        107.780000\n",
      "75%        189.190000\n",
      "max       1265.480000\n",
      "Name: payment_value, dtype: float64\n",
      "<class 'pandas.core.series.Series'>\n",
      "RangeIndex: 96770 entries, 0 to 96769\n",
      "Series name: payment_value\n",
      "Non-Null Count  Dtype  \n",
      "--------------  -----  \n",
      "96770 non-null  float64\n",
      "dtypes: float64(1)\n",
      "memory usage: 756.1 KB\n",
      "None\n",
      "frequency\n",
      ".............\n",
      "[ 8.  6. nan  5.  4.  3.  2.  1.]\n",
      "count    82144.000000\n",
      "mean         1.118706\n",
      "std          0.410968\n",
      "min          1.000000\n",
      "25%          1.000000\n",
      "50%          1.000000\n",
      "75%          1.000000\n",
      "max          8.000000\n",
      "Name: frequency, dtype: float64\n",
      "<class 'pandas.core.series.Series'>\n",
      "RangeIndex: 96770 entries, 0 to 96769\n",
      "Series name: frequency\n",
      "Non-Null Count  Dtype  \n",
      "--------------  -----  \n",
      "82144 non-null  float64\n",
      "dtypes: float64(1)\n",
      "memory usage: 756.1 KB\n",
      "None\n",
      "recency\n",
      ".............\n",
      "[288 170   9 692 112 307 572 187 166  56 371 544 450 471 546 225 136  30\n",
      " 529 116 590  51  46  33  83 378 257 229 493 173 313 180 322 409 193  35\n",
      " 271 181 595  38 146 316 550 518 240  20 161  82 376  67 233 129 697 494\n",
      " 165 239  54  91 192 414 217 353 279 377  79 226  39 213 160 311 282 292\n",
      "  68 280 464  13 439  88 286 347 123 148 111 145  14 418  22  19 128 419\n",
      " 253 587  27  11 379 545 119 270  73 162 276 581 467 195 357  84 144 436\n",
      "  18 277 327 484 360 412  97 330  69 259 320  10 453 247 293 301 122 552\n",
      " 329 275 446 367 308 362 461 185  37 167 230   5 222 106 475 194 263 382\n",
      " 297  29  24 350 398 237 424 204 334 190 583 396  34 215 321 480 438  71\n",
      " 200 172 209 469 284 314 139 143 342 536 405 368  60 118 579 411 197  89\n",
      " 291 133 349 216 157 437 109 501 150 232 388 319  99 231  28 335 214 283\n",
      " 447 337 454  43 370 107  80 482 340 219 159 593 526 208  36 255 210 177\n",
      "  25 251 228 515 534 202 366 448 393 278 201 530 153 517 487 441 183  26\n",
      " 339 465 403 100 303 551 496 445 591 485  74 476 227 130  53 345 254 331\n",
      " 358 394 154 361  72 299 548 315 142 272 385 281 265 266 140 115 108 102\n",
      " 562 196 189 269 384 211 113 348 387 135  66  76 262 326 290 300  41 114\n",
      " 444 375 163 274 306 223 696 383 425 104 395 483 260  86 498 336  42  44\n",
      " 430 188  81 489 289 171  17 397 555 557 426 577 131 121 168 328 178 402\n",
      "  31 220 341 203 207 318  98  48 477  47  87  57  12  96 132 249  63 466\n",
      " 221 352 105 695 399 126  16 427 364 218 386 568 470 369 155 267 359 110\n",
      " 374 117 224 372 285 199  95 103  93 205 186  90 566 250 287 556 569  55\n",
      " 156 332  40 592 380  94 212 124 563 400 381 164 481 535 241 235 422 392\n",
      " 355 296 468 264 389 474 137 182 310 191 415 516 248 151 442 258  64  32\n",
      " 576 198 120 560 413 542 365 176   7 346 455 127 295 273 457 236 125 351\n",
      "  75 528 256 408 147 158  77 169 175 433 521 391 268 179   6 294 141  62\n",
      " 152  52 571 234 584 356 532  70 244 588 428 527  21 305  92 333 458 246\n",
      " 440 538 390 298 174  78 101 416 514 531 138 304 463 500 564  65 325  45\n",
      " 344 525 242 523 488 479 459  23  85 134 309  59 401 549 317 323 540 420\n",
      " 561 559 417 324 524 456 243 537  61 354 504 423 497 491 206 312 410 596\n",
      " 473 509 343 429 373 499 570 495 502 238 432 462 302 460 184 513  50 472\n",
      " 508 478 363 261 149 541   8 519  58 406 553 543 539 506 511  49 510 407\n",
      " 421 580 492 404 520 449 578 573 434 575 505  15 503 490 565 338 451 252\n",
      " 547 582 435 452 533   4 558 694 594 486 522 574 698 443 567 554 431 245\n",
      " 589 586 507 585 728 693 512 598 602 605 699 604 599 600 597 603 618   0\n",
      " 601 700]\n",
      "282    1063\n",
      "283     437\n",
      "281     422\n",
      "280     399\n",
      "279     379\n",
      "       ... \n",
      "728       2\n",
      "603       2\n",
      "618       1\n",
      "0         1\n",
      "700       1\n",
      "Name: recency, Length: 614, dtype: int64\n"
     ]
    }
   ],
   "source": [
    "for i in df.columns:\n",
    "    if df[i].dtype == 'object':\n",
    "        print(i)\n",
    "        print(\".............\")\n",
    "        print(df[i].unique())\n",
    "        print(df[i].value_counts())\n",
    "    elif df[i].dtype == 'int32' or df[i].dtype =='int64':\n",
    "        print(i)\n",
    "        print(\".............\")\n",
    "        print(df[i].unique())\n",
    "        print(df[i].value_counts())\n",
    "    elif df[i].dtype == 'float64':\n",
    "        print(i)\n",
    "        print(\".............\")\n",
    "        print(df[i].unique())\n",
    "        print(df[i].describe())\n",
    "        print(df[i].info())"
   ]
  },
  {
   "cell_type": "code",
   "execution_count": 6,
   "id": "0a2f657d",
   "metadata": {},
   "outputs": [
    {
     "data": {
      "text/plain": [
       "customer_id          0\n",
       "order_item_id        0\n",
       "price                0\n",
       "freight_value     9746\n",
       "payment_value        0\n",
       "frequency        14626\n",
       "recency              0\n",
       "dtype: int64"
      ]
     },
     "execution_count": 6,
     "metadata": {},
     "output_type": "execute_result"
    }
   ],
   "source": [
    "df.isnull().sum()"
   ]
  },
  {
   "cell_type": "markdown",
   "id": "193fada7",
   "metadata": {},
   "source": [
    "# EDA"
   ]
  },
  {
   "cell_type": "code",
   "execution_count": 7,
   "id": "e9720745",
   "metadata": {},
   "outputs": [
    {
     "data": {
      "text/plain": [
       "(96770,)"
      ]
     },
     "execution_count": 7,
     "metadata": {},
     "output_type": "execute_result"
    }
   ],
   "source": [
    "df['customer_id'].unique().shape"
   ]
  },
  {
   "cell_type": "markdown",
   "id": "4406cfdb",
   "metadata": {},
   "source": [
    "INSIGHTS:\n",
    "* Each customer as a unique customer id."
   ]
  },
  {
   "cell_type": "code",
   "execution_count": 8,
   "id": "4ba110ac",
   "metadata": {},
   "outputs": [
    {
     "data": {
      "text/plain": [
       "array([20, 21, 12, 15, 10,  6,  3,  2,  1], dtype=int64)"
      ]
     },
     "execution_count": 8,
     "metadata": {},
     "output_type": "execute_result"
    }
   ],
   "source": [
    "df['order_item_id'].unique()"
   ]
  },
  {
   "cell_type": "code",
   "execution_count": 9,
   "id": "1c314683",
   "metadata": {},
   "outputs": [
    {
     "data": {
      "text/plain": [
       "1     87510\n",
       "3      7246\n",
       "6      1131\n",
       "2       465\n",
       "10      292\n",
       "15       70\n",
       "21       48\n",
       "12        7\n",
       "20        1\n",
       "Name: order_item_id, dtype: int64"
      ]
     },
     "execution_count": 9,
     "metadata": {},
     "output_type": "execute_result"
    }
   ],
   "source": [
    "df['order_item_id'].value_counts()"
   ]
  },
  {
   "cell_type": "markdown",
   "id": "01c35d1f",
   "metadata": {},
   "source": [
    "INSIGHTS:\n",
    "* There are 9 items in the dataset.\n",
    "* The items whose order item id is 1,3,6 are frequently purchased.\n",
    "* The items whose order item id is 20,12,21,15 are less purchased."
   ]
  },
  {
   "cell_type": "code",
   "execution_count": 10,
   "id": "0220f447",
   "metadata": {},
   "outputs": [
    {
     "data": {
      "text/plain": [
       "count    96770.000000\n",
       "mean       119.682151\n",
       "std        122.655268\n",
       "min          0.850000\n",
       "25%         45.500000\n",
       "50%         84.990000\n",
       "75%        148.900000\n",
       "max        982.000000\n",
       "Name: price, dtype: float64"
      ]
     },
     "execution_count": 10,
     "metadata": {},
     "output_type": "execute_result"
    }
   ],
   "source": [
    "df['price'].describe()"
   ]
  },
  {
   "cell_type": "markdown",
   "id": "5ce89101",
   "metadata": {},
   "source": [
    "INSIGHTS:\n",
    "* The minimum price is 0.85 and the maximum price is 982.\n",
    "* The Average price is 119.\n",
    "* 75% of the price is 148 and maximum price is 982.Outliers are present between the 75% and maximum price of the data."
   ]
  },
  {
   "cell_type": "code",
   "execution_count": 11,
   "id": "b6f1d653",
   "metadata": {},
   "outputs": [
    {
     "data": {
      "text/plain": [
       "array([93.84, 76.74,   nan, ..., 86.53, 98.13, 60.86])"
      ]
     },
     "execution_count": 11,
     "metadata": {},
     "output_type": "execute_result"
    }
   ],
   "source": [
    "df['freight_value'].unique()"
   ]
  },
  {
   "cell_type": "code",
   "execution_count": 12,
   "id": "3bfa4651",
   "metadata": {},
   "outputs": [
    {
     "data": {
      "text/plain": [
       "count    87024.000000\n",
       "mean        21.708607\n",
       "std         16.220297\n",
       "min          0.000000\n",
       "25%         13.780000\n",
       "50%         17.060000\n",
       "75%         23.620000\n",
       "max        312.410000\n",
       "Name: freight_value, dtype: float64"
      ]
     },
     "execution_count": 12,
     "metadata": {},
     "output_type": "execute_result"
    }
   ],
   "source": [
    "df['freight_value'].describe()"
   ]
  },
  {
   "cell_type": "markdown",
   "id": "30c42b6f",
   "metadata": {},
   "source": [
    "INSIGHTS:\n",
    "* The minimum freight_value is 0 and the maximum freight_value is 312.\n",
    "* The Average freight_value is 21.\n",
    "* 75% of the freight_value is 23 and maximum freight_value is 312.Outliers are present between the 75% and maximum freight_value of the data."
   ]
  },
  {
   "cell_type": "code",
   "execution_count": 13,
   "id": "87b73897",
   "metadata": {},
   "outputs": [
    {
     "data": {
      "text/html": [
       "<div>\n",
       "<style scoped>\n",
       "    .dataframe tbody tr th:only-of-type {\n",
       "        vertical-align: middle;\n",
       "    }\n",
       "\n",
       "    .dataframe tbody tr th {\n",
       "        vertical-align: top;\n",
       "    }\n",
       "\n",
       "    .dataframe thead th {\n",
       "        text-align: right;\n",
       "    }\n",
       "</style>\n",
       "<table border=\"1\" class=\"dataframe\">\n",
       "  <thead>\n",
       "    <tr style=\"text-align: right;\">\n",
       "      <th></th>\n",
       "      <th>customer_id</th>\n",
       "      <th>order_item_id</th>\n",
       "      <th>price</th>\n",
       "      <th>freight_value</th>\n",
       "      <th>payment_value</th>\n",
       "      <th>frequency</th>\n",
       "      <th>recency</th>\n",
       "    </tr>\n",
       "  </thead>\n",
       "  <tbody>\n",
       "    <tr>\n",
       "      <th>0</th>\n",
       "      <td>b4afeb58ac51bc903c5362286c6a5cfe</td>\n",
       "      <td>20</td>\n",
       "      <td>154.40</td>\n",
       "      <td>93.84</td>\n",
       "      <td>992.96</td>\n",
       "      <td>8.0</td>\n",
       "      <td>288</td>\n",
       "    </tr>\n",
       "    <tr>\n",
       "      <th>1</th>\n",
       "      <td>08a0a61f98f22952682f7e463ef2d43e</td>\n",
       "      <td>21</td>\n",
       "      <td>131.94</td>\n",
       "      <td>76.74</td>\n",
       "      <td>1252.08</td>\n",
       "      <td>6.0</td>\n",
       "      <td>170</td>\n",
       "    </tr>\n",
       "    <tr>\n",
       "      <th>2</th>\n",
       "      <td>cc3f0f9c25480b83c834bf8af1435a29</td>\n",
       "      <td>21</td>\n",
       "      <td>23.88</td>\n",
       "      <td>NaN</td>\n",
       "      <td>426.60</td>\n",
       "      <td>6.0</td>\n",
       "      <td>9</td>\n",
       "    </tr>\n",
       "    <tr>\n",
       "      <th>3</th>\n",
       "      <td>620732fed5579e0bdfdddee02aad4c54</td>\n",
       "      <td>12</td>\n",
       "      <td>173.40</td>\n",
       "      <td>84.66</td>\n",
       "      <td>774.18</td>\n",
       "      <td>6.0</td>\n",
       "      <td>692</td>\n",
       "    </tr>\n",
       "    <tr>\n",
       "      <th>4</th>\n",
       "      <td>109f80397e4897bbcf56313c25850332</td>\n",
       "      <td>21</td>\n",
       "      <td>131.60</td>\n",
       "      <td>61.24</td>\n",
       "      <td>1157.04</td>\n",
       "      <td>6.0</td>\n",
       "      <td>112</td>\n",
       "    </tr>\n",
       "  </tbody>\n",
       "</table>\n",
       "</div>"
      ],
      "text/plain": [
       "                        customer_id  order_item_id   price  freight_value  \\\n",
       "0  b4afeb58ac51bc903c5362286c6a5cfe             20  154.40          93.84   \n",
       "1  08a0a61f98f22952682f7e463ef2d43e             21  131.94          76.74   \n",
       "2  cc3f0f9c25480b83c834bf8af1435a29             21   23.88            NaN   \n",
       "3  620732fed5579e0bdfdddee02aad4c54             12  173.40          84.66   \n",
       "4  109f80397e4897bbcf56313c25850332             21  131.60          61.24   \n",
       "\n",
       "   payment_value  frequency  recency  \n",
       "0         992.96        8.0      288  \n",
       "1        1252.08        6.0      170  \n",
       "2         426.60        6.0        9  \n",
       "3         774.18        6.0      692  \n",
       "4        1157.04        6.0      112  "
      ]
     },
     "execution_count": 13,
     "metadata": {},
     "output_type": "execute_result"
    }
   ],
   "source": [
    "df.head()"
   ]
  },
  {
   "cell_type": "code",
   "execution_count": 14,
   "id": "e5c28581",
   "metadata": {},
   "outputs": [
    {
     "data": {
      "text/plain": [
       "count    96770.000000\n",
       "mean       162.523740\n",
       "std        168.489635\n",
       "min          9.590000\n",
       "25%         62.250000\n",
       "50%        107.780000\n",
       "75%        189.190000\n",
       "max       1265.480000\n",
       "Name: payment_value, dtype: float64"
      ]
     },
     "execution_count": 14,
     "metadata": {},
     "output_type": "execute_result"
    }
   ],
   "source": [
    "df['payment_value'].describe()"
   ]
  },
  {
   "cell_type": "markdown",
   "id": "85427f97",
   "metadata": {},
   "source": [
    "INSIGHTS:\n",
    "* The minimum payment_value is  9.59 and the maximum payment_value is 1265.\n",
    "* The Average payment_value is 162.\n",
    "* 75% of the payment_value is 189 and maximum payment_value is 1265.Outliers are present between the 75% and maximum payment_value of the data. "
   ]
  },
  {
   "cell_type": "code",
   "execution_count": 15,
   "id": "90af06bf",
   "metadata": {
    "scrolled": true
   },
   "outputs": [
    {
     "data": {
      "text/plain": [
       "array([ 8.,  6., nan,  5.,  4.,  3.,  2.,  1.])"
      ]
     },
     "execution_count": 15,
     "metadata": {},
     "output_type": "execute_result"
    }
   ],
   "source": [
    "df['frequency'].unique()"
   ]
  },
  {
   "cell_type": "code",
   "execution_count": 16,
   "id": "b5bec779",
   "metadata": {},
   "outputs": [
    {
     "data": {
      "text/plain": [
       "1.0    74265\n",
       "2.0     6561\n",
       "3.0      925\n",
       "4.0      282\n",
       "5.0       63\n",
       "6.0       47\n",
       "8.0        1\n",
       "Name: frequency, dtype: int64"
      ]
     },
     "execution_count": 16,
     "metadata": {},
     "output_type": "execute_result"
    }
   ],
   "source": [
    "df.frequency.value_counts()"
   ]
  },
  {
   "cell_type": "markdown",
   "id": "b507f6ba",
   "metadata": {},
   "source": [
    "INSIGHTS:\n",
    "* Most of the customers are purchasing the items everyday.\n",
    "* less customers are purchasing the items for ever 3-8 days."
   ]
  },
  {
   "cell_type": "code",
   "execution_count": 17,
   "id": "98c3224d",
   "metadata": {},
   "outputs": [],
   "source": [
    "pd.set_option('display.max_rows',None)"
   ]
  },
  {
   "cell_type": "code",
   "execution_count": 18,
   "id": "29fb3a7f",
   "metadata": {},
   "outputs": [
    {
     "data": {
      "text/plain": [
       "282    1063\n",
       "283     437\n",
       "281     422\n",
       "280     399\n",
       "279     379\n",
       "278     369\n",
       "118     369\n",
       "27      364\n",
       "111     360\n",
       "26      354\n",
       "110     352\n",
       "31      342\n",
       "272     340\n",
       "116     339\n",
       "109     327\n",
       "25      322\n",
       "33      322\n",
       "117     321\n",
       "17      315\n",
       "186     313\n",
       "122     312\n",
       "41      309\n",
       "277     309\n",
       "46      304\n",
       "19      304\n",
       "230     300\n",
       "237     300\n",
       "223     299\n",
       "188     298\n",
       "229     298\n",
       "167     297\n",
       "20      297\n",
       "83      294\n",
       "194     293\n",
       "200     292\n",
       "137     291\n",
       "166     287\n",
       "123     286\n",
       "187     286\n",
       "18      285\n",
       "132     282\n",
       "139     279\n",
       "28      279\n",
       "34      279\n",
       "30      279\n",
       "130     278\n",
       "165     278\n",
       "208     277\n",
       "32      277\n",
       "199     275\n",
       "228     272\n",
       "153     271\n",
       "131     271\n",
       "195     270\n",
       "271     269\n",
       "171     269\n",
       "124     268\n",
       "185     268\n",
       "24      267\n",
       "192     266\n",
       "181     266\n",
       "275     266\n",
       "136     266\n",
       "276     265\n",
       "144     265\n",
       "265     265\n",
       "39      265\n",
       "160     264\n",
       "270     261\n",
       "235     261\n",
       "40      259\n",
       "264     259\n",
       "81      258\n",
       "215     258\n",
       "222     258\n",
       "193     258\n",
       "209     258\n",
       "115     257\n",
       "184     256\n",
       "60      254\n",
       "13      253\n",
       "150     253\n",
       "146     253\n",
       "138     252\n",
       "152     252\n",
       "48      252\n",
       "180     250\n",
       "151     250\n",
       "236     249\n",
       "164     249\n",
       "234     249\n",
       "241     248\n",
       "179     248\n",
       "214     247\n",
       "29      247\n",
       "143     247\n",
       "182     246\n",
       "221     246\n",
       "159     245\n",
       "231     245\n",
       "45      244\n",
       "227     244\n",
       "129     244\n",
       "68      243\n",
       "108     242\n",
       "76      241\n",
       "216     240\n",
       "233     239\n",
       "170     235\n",
       "207     235\n",
       "44      235\n",
       "178     235\n",
       "189     235\n",
       "286     234\n",
       "273     233\n",
       "290     233\n",
       "75      233\n",
       "140     232\n",
       "66      231\n",
       "121     231\n",
       "175     231\n",
       "23      231\n",
       "213     230\n",
       "82      230\n",
       "73      229\n",
       "206     229\n",
       "12      229\n",
       "16      229\n",
       "220     228\n",
       "174     227\n",
       "242     227\n",
       "69      227\n",
       "87      227\n",
       "38      226\n",
       "201     225\n",
       "191     225\n",
       "114     225\n",
       "125     223\n",
       "168     222\n",
       "42      222\n",
       "61      221\n",
       "285     220\n",
       "47      219\n",
       "128     219\n",
       "293     218\n",
       "269     218\n",
       "263     217\n",
       "198     217\n",
       "90      216\n",
       "119     216\n",
       "172     215\n",
       "268     215\n",
       "67      214\n",
       "112     214\n",
       "173     214\n",
       "210     212\n",
       "226     211\n",
       "88      210\n",
       "219     210\n",
       "74      210\n",
       "14      210\n",
       "163     209\n",
       "158     208\n",
       "239     208\n",
       "70      208\n",
       "232     207\n",
       "133     207\n",
       "243     207\n",
       "154     207\n",
       "240     206\n",
       "21      206\n",
       "202     205\n",
       "145     204\n",
       "321     203\n",
       "183     203\n",
       "84      203\n",
       "212     203\n",
       "120     203\n",
       "89      202\n",
       "107     202\n",
       "258     201\n",
       "224     200\n",
       "284     199\n",
       "80      199\n",
       "177     198\n",
       "266     197\n",
       "274     196\n",
       "113     196\n",
       "355     196\n",
       "161     195\n",
       "103     195\n",
       "356     195\n",
       "196     195\n",
       "62      194\n",
       "91      193\n",
       "86      193\n",
       "354     192\n",
       "334     191\n",
       "320     190\n",
       "205     190\n",
       "383     189\n",
       "197     189\n",
       "238     189\n",
       "104     189\n",
       "35      187\n",
       "126     187\n",
       "211     187\n",
       "300     186\n",
       "15      186\n",
       "262     186\n",
       "297     186\n",
       "190     186\n",
       "291     185\n",
       "142     185\n",
       "135     184\n",
       "37      184\n",
       "11      183\n",
       "157     183\n",
       "43      182\n",
       "22      182\n",
       "147     181\n",
       "261     181\n",
       "204     180\n",
       "176     179\n",
       "328     179\n",
       "411     179\n",
       "225     179\n",
       "257     178\n",
       "149     178\n",
       "169     177\n",
       "79      177\n",
       "341     177\n",
       "327     176\n",
       "289     176\n",
       "349     175\n",
       "318     174\n",
       "59      174\n",
       "105     174\n",
       "382     173\n",
       "36      173\n",
       "250     172\n",
       "93      172\n",
       "249     171\n",
       "294     169\n",
       "203     169\n",
       "298     168\n",
       "384     168\n",
       "72      168\n",
       "397     165\n",
       "155     164\n",
       "368     164\n",
       "156     164\n",
       "85      164\n",
       "313     164\n",
       "412     164\n",
       "78      163\n",
       "405     163\n",
       "353     162\n",
       "292     162\n",
       "51      162\n",
       "295     161\n",
       "418     161\n",
       "319     161\n",
       "217     161\n",
       "162     161\n",
       "65      161\n",
       "256     160\n",
       "377     159\n",
       "461     158\n",
       "63      158\n",
       "299     158\n",
       "127     158\n",
       "148     156\n",
       "326     156\n",
       "348     156\n",
       "396     155\n",
       "77      154\n",
       "370     153\n",
       "475     153\n",
       "347     153\n",
       "381     153\n",
       "315     153\n",
       "363     153\n",
       "306     152\n",
       "134     152\n",
       "346     152\n",
       "312     151\n",
       "468     151\n",
       "314     151\n",
       "367     150\n",
       "415     150\n",
       "335     150\n",
       "296     149\n",
       "218     149\n",
       "71      149\n",
       "388     148\n",
       "417     148\n",
       "333     148\n",
       "398     147\n",
       "404     147\n",
       "55      147\n",
       "97      147\n",
       "362     147\n",
       "391     147\n",
       "390     146\n",
       "49      146\n",
       "287     145\n",
       "432     145\n",
       "50      145\n",
       "474     144\n",
       "248     144\n",
       "311     143\n",
       "409     143\n",
       "389     143\n",
       "410     142\n",
       "141     142\n",
       "94      142\n",
       "473     142\n",
       "92      142\n",
       "259     142\n",
       "352     141\n",
       "324     141\n",
       "440     141\n",
       "301     141\n",
       "339     141\n",
       "424     140\n",
       "325     140\n",
       "419     140\n",
       "395     140\n",
       "394     139\n",
       "307     139\n",
       "332     139\n",
       "350     139\n",
       "267     139\n",
       "466     139\n",
       "471     138\n",
       "357     138\n",
       "454     138\n",
       "423     138\n",
       "288     137\n",
       "96      136\n",
       "329     136\n",
       "453     135\n",
       "255     135\n",
       "366     134\n",
       "342     134\n",
       "376     134\n",
       "10      134\n",
       "106     134\n",
       "340     133\n",
       "387     133\n",
       "416     132\n",
       "446     132\n",
       "95      130\n",
       "54      130\n",
       "452     129\n",
       "467     129\n",
       "336     128\n",
       "459     128\n",
       "380     128\n",
       "247     128\n",
       "361     128\n",
       "447     128\n",
       "489     128\n",
       "308     127\n",
       "56      127\n",
       "102     126\n",
       "451     126\n",
       "304     126\n",
       "401     126\n",
       "469     125\n",
       "260     125\n",
       "345     125\n",
       "426     125\n",
       "53      124\n",
       "403     124\n",
       "303     124\n",
       "425     124\n",
       "369     124\n",
       "374     124\n",
       "64      123\n",
       "472     123\n",
       "457     122\n",
       "373     122\n",
       "431     121\n",
       "371     121\n",
       "445     121\n",
       "494     120\n",
       "351     120\n",
       "402     119\n",
       "400     119\n",
       "322     119\n",
       "482     119\n",
       "413     118\n",
       "364     118\n",
       "496     117\n",
       "479     117\n",
       "488     117\n",
       "52      117\n",
       "316     117\n",
       "483     117\n",
       "480     116\n",
       "310     116\n",
       "378     116\n",
       "481     116\n",
       "58      115\n",
       "392     114\n",
       "343     113\n",
       "359     113\n",
       "393     113\n",
       "317     113\n",
       "572     112\n",
       "458     112\n",
       "531     112\n",
       "422     112\n",
       "375     112\n",
       "476     111\n",
       "323     111\n",
       "524     110\n",
       "528     110\n",
       "101     110\n",
       "302     109\n",
       "495     109\n",
       "338     109\n",
       "478     109\n",
       "406     109\n",
       "487     109\n",
       "450     108\n",
       "379     108\n",
       "331     108\n",
       "337     108\n",
       "486     108\n",
       "538     107\n",
       "399     107\n",
       "254     106\n",
       "430     106\n",
       "455     106\n",
       "536     106\n",
       "434     106\n",
       "448     106\n",
       "408     105\n",
       "98      104\n",
       "437     104\n",
       "530     103\n",
       "427     103\n",
       "516     103\n",
       "305     102\n",
       "253     102\n",
       "444     102\n",
       "462     101\n",
       "441     100\n",
       "485     100\n",
       "330      99\n",
       "365      99\n",
       "460      99\n",
       "484      98\n",
       "492      98\n",
       "358      98\n",
       "550      98\n",
       "535      97\n",
       "420      97\n",
       "529      97\n",
       "542      97\n",
       "100      97\n",
       "360      97\n",
       "537      96\n",
       "501      96\n",
       "246      96\n",
       "523      95\n",
       "99       94\n",
       "465      94\n",
       "386      93\n",
       "545      93\n",
       "9        92\n",
       "57       92\n",
       "251      92\n",
       "429      92\n",
       "414      92\n",
       "514      92\n",
       "470      91\n",
       "385      91\n",
       "436      91\n",
       "500      90\n",
       "344      90\n",
       "372      88\n",
       "456      88\n",
       "443      86\n",
       "498      86\n",
       "309      86\n",
       "510      85\n",
       "497      84\n",
       "439      84\n",
       "407      84\n",
       "544      83\n",
       "584      83\n",
       "573      82\n",
       "513      82\n",
       "515      81\n",
       "421      81\n",
       "570      80\n",
       "509      79\n",
       "571      79\n",
       "244      79\n",
       "477      78\n",
       "546      78\n",
       "493      77\n",
       "541      77\n",
       "574      76\n",
       "464      76\n",
       "522      75\n",
       "442      75\n",
       "428      75\n",
       "435      74\n",
       "521      74\n",
       "578      74\n",
       "463      74\n",
       "527      74\n",
       "449      74\n",
       "547      73\n",
       "511      73\n",
       "540      71\n",
       "543      71\n",
       "499      70\n",
       "526      70\n",
       "7        70\n",
       "525      70\n",
       "566      70\n",
       "517      70\n",
       "533      70\n",
       "539      69\n",
       "508      68\n",
       "565      68\n",
       "502      68\n",
       "518      68\n",
       "8        67\n",
       "491      67\n",
       "490      67\n",
       "567      67\n",
       "555      65\n",
       "698      64\n",
       "6        64\n",
       "512      64\n",
       "577      64\n",
       "519      63\n",
       "503      63\n",
       "549      63\n",
       "575      63\n",
       "579      62\n",
       "520      62\n",
       "548      62\n",
       "245      62\n",
       "534      61\n",
       "569      61\n",
       "564      61\n",
       "551      60\n",
       "557      60\n",
       "556      57\n",
       "252      57\n",
       "559      57\n",
       "532      57\n",
       "433      57\n",
       "583      55\n",
       "585      55\n",
       "505      54\n",
       "563      54\n",
       "576      54\n",
       "506      53\n",
       "580      53\n",
       "504      52\n",
       "561      52\n",
       "568      49\n",
       "507      47\n",
       "696      46\n",
       "560      45\n",
       "695      44\n",
       "586      42\n",
       "554      41\n",
       "553      41\n",
       "697      40\n",
       "552      40\n",
       "558      39\n",
       "588      39\n",
       "5        38\n",
       "438      37\n",
       "562      37\n",
       "694      36\n",
       "593      35\n",
       "587      35\n",
       "605      32\n",
       "581      32\n",
       "693      31\n",
       "592      31\n",
       "692      30\n",
       "591      30\n",
       "582      30\n",
       "590      24\n",
       "589      20\n",
       "594      18\n",
       "596      17\n",
       "595      14\n",
       "598      14\n",
       "599      12\n",
       "597      11\n",
       "4         9\n",
       "699       9\n",
       "600       7\n",
       "602       7\n",
       "604       5\n",
       "601       4\n",
       "728       2\n",
       "603       2\n",
       "618       1\n",
       "0         1\n",
       "700       1\n",
       "Name: recency, dtype: int64"
      ]
     },
     "execution_count": 18,
     "metadata": {},
     "output_type": "execute_result"
    }
   ],
   "source": [
    "df.recency.value_counts()"
   ]
  },
  {
   "cell_type": "markdown",
   "id": "c9aabc82",
   "metadata": {},
   "source": [
    "INSIGHTS :\n",
    "* The minium recency is 0 and the maximum recency is 728.\n",
    "* "
   ]
  },
  {
   "cell_type": "code",
   "execution_count": 19,
   "id": "34e4f8cf",
   "metadata": {},
   "outputs": [
    {
     "data": {
      "text/plain": [
       "customer_id          0\n",
       "order_item_id        0\n",
       "price                0\n",
       "freight_value     9746\n",
       "payment_value        0\n",
       "frequency        14626\n",
       "recency              0\n",
       "dtype: int64"
      ]
     },
     "execution_count": 19,
     "metadata": {},
     "output_type": "execute_result"
    }
   ],
   "source": [
    "df.isnull().sum()"
   ]
  },
  {
   "cell_type": "code",
   "execution_count": 20,
   "id": "e3fd2933",
   "metadata": {},
   "outputs": [
    {
     "data": {
      "text/plain": [
       "1.1187061745227893"
      ]
     },
     "execution_count": 20,
     "metadata": {},
     "output_type": "execute_result"
    }
   ],
   "source": [
    "df.frequency.mean()"
   ]
  },
  {
   "cell_type": "code",
   "execution_count": 21,
   "id": "4e07f6f1",
   "metadata": {},
   "outputs": [
    {
     "data": {
      "text/plain": [
       "1.0"
      ]
     },
     "execution_count": 21,
     "metadata": {},
     "output_type": "execute_result"
    }
   ],
   "source": [
    "df.frequency.median()"
   ]
  },
  {
   "cell_type": "code",
   "execution_count": 22,
   "id": "a825d009",
   "metadata": {},
   "outputs": [],
   "source": [
    "df.frequency.fillna(df.frequency.median(),inplace = True)"
   ]
  },
  {
   "cell_type": "code",
   "execution_count": 23,
   "id": "7cc86f88",
   "metadata": {},
   "outputs": [
    {
     "data": {
      "text/plain": [
       "customer_id         0\n",
       "order_item_id       0\n",
       "price               0\n",
       "freight_value    9746\n",
       "payment_value       0\n",
       "frequency           0\n",
       "recency             0\n",
       "dtype: int64"
      ]
     },
     "execution_count": 23,
     "metadata": {},
     "output_type": "execute_result"
    }
   ],
   "source": [
    "df.isnull().sum()"
   ]
  },
  {
   "cell_type": "code",
   "execution_count": 24,
   "id": "a5d4eac9",
   "metadata": {},
   "outputs": [
    {
     "data": {
      "text/plain": [
       "count    96770.000000\n",
       "mean         1.100765\n",
       "std          0.381018\n",
       "min          1.000000\n",
       "25%          1.000000\n",
       "50%          1.000000\n",
       "75%          1.000000\n",
       "max          8.000000\n",
       "Name: frequency, dtype: float64"
      ]
     },
     "execution_count": 24,
     "metadata": {},
     "output_type": "execute_result"
    }
   ],
   "source": [
    "df.frequency.describe()"
   ]
  },
  {
   "cell_type": "code",
   "execution_count": 25,
   "id": "f2a77a7b",
   "metadata": {},
   "outputs": [
    {
     "data": {
      "text/html": [
       "<div>\n",
       "<style scoped>\n",
       "    .dataframe tbody tr th:only-of-type {\n",
       "        vertical-align: middle;\n",
       "    }\n",
       "\n",
       "    .dataframe tbody tr th {\n",
       "        vertical-align: top;\n",
       "    }\n",
       "\n",
       "    .dataframe thead th {\n",
       "        text-align: right;\n",
       "    }\n",
       "</style>\n",
       "<table border=\"1\" class=\"dataframe\">\n",
       "  <thead>\n",
       "    <tr style=\"text-align: right;\">\n",
       "      <th></th>\n",
       "      <th>customer_id</th>\n",
       "      <th>order_item_id</th>\n",
       "      <th>price</th>\n",
       "      <th>freight_value</th>\n",
       "      <th>payment_value</th>\n",
       "      <th>frequency</th>\n",
       "      <th>recency</th>\n",
       "    </tr>\n",
       "  </thead>\n",
       "  <tbody>\n",
       "    <tr>\n",
       "      <th>0</th>\n",
       "      <td>b4afeb58ac51bc903c5362286c6a5cfe</td>\n",
       "      <td>20</td>\n",
       "      <td>154.40</td>\n",
       "      <td>93.84</td>\n",
       "      <td>992.96</td>\n",
       "      <td>8.0</td>\n",
       "      <td>288</td>\n",
       "    </tr>\n",
       "    <tr>\n",
       "      <th>1</th>\n",
       "      <td>08a0a61f98f22952682f7e463ef2d43e</td>\n",
       "      <td>21</td>\n",
       "      <td>131.94</td>\n",
       "      <td>76.74</td>\n",
       "      <td>1252.08</td>\n",
       "      <td>6.0</td>\n",
       "      <td>170</td>\n",
       "    </tr>\n",
       "    <tr>\n",
       "      <th>2</th>\n",
       "      <td>cc3f0f9c25480b83c834bf8af1435a29</td>\n",
       "      <td>21</td>\n",
       "      <td>23.88</td>\n",
       "      <td>NaN</td>\n",
       "      <td>426.60</td>\n",
       "      <td>6.0</td>\n",
       "      <td>9</td>\n",
       "    </tr>\n",
       "    <tr>\n",
       "      <th>3</th>\n",
       "      <td>620732fed5579e0bdfdddee02aad4c54</td>\n",
       "      <td>12</td>\n",
       "      <td>173.40</td>\n",
       "      <td>84.66</td>\n",
       "      <td>774.18</td>\n",
       "      <td>6.0</td>\n",
       "      <td>692</td>\n",
       "    </tr>\n",
       "    <tr>\n",
       "      <th>4</th>\n",
       "      <td>109f80397e4897bbcf56313c25850332</td>\n",
       "      <td>21</td>\n",
       "      <td>131.60</td>\n",
       "      <td>61.24</td>\n",
       "      <td>1157.04</td>\n",
       "      <td>6.0</td>\n",
       "      <td>112</td>\n",
       "    </tr>\n",
       "  </tbody>\n",
       "</table>\n",
       "</div>"
      ],
      "text/plain": [
       "                        customer_id  order_item_id   price  freight_value  \\\n",
       "0  b4afeb58ac51bc903c5362286c6a5cfe             20  154.40          93.84   \n",
       "1  08a0a61f98f22952682f7e463ef2d43e             21  131.94          76.74   \n",
       "2  cc3f0f9c25480b83c834bf8af1435a29             21   23.88            NaN   \n",
       "3  620732fed5579e0bdfdddee02aad4c54             12  173.40          84.66   \n",
       "4  109f80397e4897bbcf56313c25850332             21  131.60          61.24   \n",
       "\n",
       "   payment_value  frequency  recency  \n",
       "0         992.96        8.0      288  \n",
       "1        1252.08        6.0      170  \n",
       "2         426.60        6.0        9  \n",
       "3         774.18        6.0      692  \n",
       "4        1157.04        6.0      112  "
      ]
     },
     "execution_count": 25,
     "metadata": {},
     "output_type": "execute_result"
    }
   ],
   "source": [
    "df.head()"
   ]
  },
  {
   "cell_type": "code",
   "execution_count": 26,
   "id": "9eae962e",
   "metadata": {},
   "outputs": [],
   "source": [
    "import matplotlib.pyplot as plt"
   ]
  },
  {
   "cell_type": "code",
   "execution_count": 27,
   "id": "5855aaa8",
   "metadata": {},
   "outputs": [
    {
     "data": {
      "text/plain": [
       "<matplotlib.collections.PathCollection at 0x1b950277ca0>"
      ]
     },
     "execution_count": 27,
     "metadata": {},
     "output_type": "execute_result"
    },
    {
     "data": {
      "image/png": "[encoded data removed]",
      "text/plain": [
       "<Figure size 640x480 with 1 Axes>"
      ]
     },
     "metadata": {},
     "output_type": "display_data"
    }
   ],
   "source": [
    "plt.scatter(df.frequency,df.recency)"
   ]
  },
  {
   "cell_type": "code",
   "execution_count": 28,
   "id": "9a59f5ee",
   "metadata": {},
   "outputs": [],
   "source": [
    "from sklearn.preprocessing import StandardScaler"
   ]
  },
  {
   "cell_type": "code",
   "execution_count": 29,
   "id": "08e2fa24",
   "metadata": {},
   "outputs": [],
   "source": [
    "sc = StandardScaler()"
   ]
  },
  {
   "cell_type": "code",
   "execution_count": 30,
   "id": "b31608be",
   "metadata": {},
   "outputs": [],
   "source": [
    "x = df[['payment_value','frequency','recency']]"
   ]
  },
  {
   "cell_type": "code",
   "execution_count": 31,
   "id": "b25aa5c7",
   "metadata": {},
   "outputs": [
    {
     "data": {
      "text/html": [
       "<div>\n",
       "<style scoped>\n",
       "    .dataframe tbody tr th:only-of-type {\n",
       "        vertical-align: middle;\n",
       "    }\n",
       "\n",
       "    .dataframe tbody tr th {\n",
       "        vertical-align: top;\n",
       "    }\n",
       "\n",
       "    .dataframe thead th {\n",
       "        text-align: right;\n",
       "    }\n",
       "</style>\n",
       "<table border=\"1\" class=\"dataframe\">\n",
       "  <thead>\n",
       "    <tr style=\"text-align: right;\">\n",
       "      <th></th>\n",
       "      <th>payment_value</th>\n",
       "      <th>frequency</th>\n",
       "      <th>recency</th>\n",
       "    </tr>\n",
       "  </thead>\n",
       "  <tbody>\n",
       "    <tr>\n",
       "      <th>0</th>\n",
       "      <td>992.96</td>\n",
       "      <td>8.0</td>\n",
       "      <td>288</td>\n",
       "    </tr>\n",
       "    <tr>\n",
       "      <th>1</th>\n",
       "      <td>1252.08</td>\n",
       "      <td>6.0</td>\n",
       "      <td>170</td>\n",
       "    </tr>\n",
       "    <tr>\n",
       "      <th>2</th>\n",
       "      <td>426.60</td>\n",
       "      <td>6.0</td>\n",
       "      <td>9</td>\n",
       "    </tr>\n",
       "    <tr>\n",
       "      <th>3</th>\n",
       "      <td>774.18</td>\n",
       "      <td>6.0</td>\n",
       "      <td>692</td>\n",
       "    </tr>\n",
       "    <tr>\n",
       "      <th>4</th>\n",
       "      <td>1157.04</td>\n",
       "      <td>6.0</td>\n",
       "      <td>112</td>\n",
       "    </tr>\n",
       "  </tbody>\n",
       "</table>\n",
       "</div>"
      ],
      "text/plain": [
       "   payment_value  frequency  recency\n",
       "0         992.96        8.0      288\n",
       "1        1252.08        6.0      170\n",
       "2         426.60        6.0        9\n",
       "3         774.18        6.0      692\n",
       "4        1157.04        6.0      112"
      ]
     },
     "execution_count": 31,
     "metadata": {},
     "output_type": "execute_result"
    }
   ],
   "source": [
    "x.head()"
   ]
  },
  {
   "cell_type": "code",
   "execution_count": 32,
   "id": "d8d6fa55",
   "metadata": {},
   "outputs": [],
   "source": [
    "x = sc.fit_transform(x)"
   ]
  },
  {
   "cell_type": "code",
   "execution_count": 40,
   "id": "41c60644",
   "metadata": {},
   "outputs": [],
   "source": [
    "from sklearn.cluster import KMeans"
   ]
  },
  {
   "cell_type": "code",
   "execution_count": 41,
   "id": "9444742d",
   "metadata": {},
   "outputs": [],
   "source": [
    "sse = []\n",
    "\n",
    "for i in range(1,11):\n",
    "    Kmeans = KMeans(n_clusters = i)\n",
    "    Kmeans.fit(x)\n",
    "    sse.append(Kmeans.inertia_)"
   ]
  },
  {
   "cell_type": "code",
   "execution_count": 42,
   "id": "fec5b8a8",
   "metadata": {},
   "outputs": [
    {
     "name": "stdout",
     "output_type": "stream",
     "text": [
      "[290310.00000000023, 191044.92234155507, 129684.8819022397, 98728.06645248058, 78941.18850941787, 64918.8147622753, 56064.94766834566, 50925.52953983187, 46310.01286530824, 42467.47699731591]\n"
     ]
    }
   ],
   "source": [
    "print(sse)"
   ]
  },
  {
   "cell_type": "code",
   "execution_count": 43,
   "id": "38b1194d",
   "metadata": {},
   "outputs": [],
   "source": [
    "import matplotlib.pyplot as plt"
   ]
  },
  {
   "cell_type": "code",
   "execution_count": 44,
   "id": "d3aba2cd",
   "metadata": {},
   "outputs": [
    {
     "data": {
      "text/plain": [
       "[<matplotlib.lines.Line2D at 0x1b954628fa0>]"
      ]
     },
     "execution_count": 44,
     "metadata": {},
     "output_type": "execute_result"
    },
    {
     "data": {
      "image/png": "[encoded data removed]",
      "text/plain": [
       "<Figure size 640x480 with 1 Axes>"
      ]
     },
     "metadata": {},
     "output_type": "display_data"
    }
   ],
   "source": [
    "plt.plot(range(1,11),sse , marker = 'o')"
   ]
  },
  {
   "cell_type": "code",
   "execution_count": 45,
   "id": "223caa53",
   "metadata": {},
   "outputs": [
    {
     "name": "stdout",
     "output_type": "stream",
     "text": [
      "[0 0 0 ... 1 1 1]\n"
     ]
    }
   ],
   "source": [
    "km = KMeans(n_clusters = 2,random_state = 0)\n",
    "y_kmeans = km.fit_predict(x)\n",
    "print(y_kmeans)"
   ]
  },
  {
   "cell_type": "code",
   "execution_count": 54,
   "id": "58f764f4",
   "metadata": {},
   "outputs": [],
   "source": [
    "x = pd.DataFrame(x)"
   ]
  },
  {
   "cell_type": "code",
   "execution_count": 55,
   "id": "ba83fbd7",
   "metadata": {},
   "outputs": [
    {
     "data": {
      "text/html": [
       "<div>\n",
       "<style scoped>\n",
       "    .dataframe tbody tr th:only-of-type {\n",
       "        vertical-align: middle;\n",
       "    }\n",
       "\n",
       "    .dataframe tbody tr th {\n",
       "        vertical-align: top;\n",
       "    }\n",
       "\n",
       "    .dataframe thead th {\n",
       "        text-align: right;\n",
       "    }\n",
       "</style>\n",
       "<table border=\"1\" class=\"dataframe\">\n",
       "  <thead>\n",
       "    <tr style=\"text-align: right;\">\n",
       "      <th></th>\n",
       "      <th>0</th>\n",
       "      <th>1</th>\n",
       "      <th>2</th>\n",
       "    </tr>\n",
       "  </thead>\n",
       "  <tbody>\n",
       "    <tr>\n",
       "      <th>0</th>\n",
       "      <td>4.928734</td>\n",
       "      <td>18.107447</td>\n",
       "      <td>0.281694</td>\n",
       "    </tr>\n",
       "    <tr>\n",
       "      <th>1</th>\n",
       "      <td>6.466640</td>\n",
       "      <td>12.858330</td>\n",
       "      <td>-0.487755</td>\n",
       "    </tr>\n",
       "    <tr>\n",
       "      <th>2</th>\n",
       "      <td>1.567323</td>\n",
       "      <td>12.858330</td>\n",
       "      <td>-1.537597</td>\n",
       "    </tr>\n",
       "    <tr>\n",
       "      <th>3</th>\n",
       "      <td>3.630250</td>\n",
       "      <td>12.858330</td>\n",
       "      <td>2.916079</td>\n",
       "    </tr>\n",
       "    <tr>\n",
       "      <th>4</th>\n",
       "      <td>5.902567</td>\n",
       "      <td>12.858330</td>\n",
       "      <td>-0.865959</td>\n",
       "    </tr>\n",
       "  </tbody>\n",
       "</table>\n",
       "</div>"
      ],
      "text/plain": [
       "          0          1         2\n",
       "0  4.928734  18.107447  0.281694\n",
       "1  6.466640  12.858330 -0.487755\n",
       "2  1.567323  12.858330 -1.537597\n",
       "3  3.630250  12.858330  2.916079\n",
       "4  5.902567  12.858330 -0.865959"
      ]
     },
     "execution_count": 55,
     "metadata": {},
     "output_type": "execute_result"
    }
   ],
   "source": [
    "x.head()"
   ]
  },
  {
   "cell_type": "code",
   "execution_count": 49,
   "id": "fcd6b4db",
   "metadata": {},
   "outputs": [],
   "source": [
    "df['clusters'] = y_kmeans"
   ]
  },
  {
   "cell_type": "code",
   "execution_count": 50,
   "id": "fadfc13b",
   "metadata": {},
   "outputs": [
    {
     "data": {
      "text/plain": [
       "array([[ 1.92264075e+00,  2.20051809e+00,  1.68743556e-02],\n",
       "       [-2.30960804e-01, -2.64341337e-01, -2.02706341e-03]])"
      ]
     },
     "execution_count": 50,
     "metadata": {},
     "output_type": "execute_result"
    }
   ],
   "source": [
    "km.cluster_centers_"
   ]
  },
  {
   "cell_type": "code",
   "execution_count": 51,
   "id": "ccc6c70f",
   "metadata": {},
   "outputs": [
    {
     "data": {
      "text/plain": [
       "<matplotlib.legend.Legend at 0x1b954671460>"
      ]
     },
     "execution_count": 51,
     "metadata": {},
     "output_type": "execute_result"
    },
    {
     "data": {
      "image/png": "[encoded data removed]",
      "text/plain": [
       "<Figure size 640x480 with 1 Axes>"
      ]
     },
     "metadata": {},
     "output_type": "display_data"
    }
   ],
   "source": [
    "d1 = df[df.clusters == 0]\n",
    "d2 = df[df.clusters == 1]\n",
    "plt.scatter(d1.frequency,d1.recency,color = 'green')\n",
    "plt.scatter(d2.frequency,d2.recency,color = 'blue')\n",
    "plt.scatter(km.cluster_centers_[:,0],km.cluster_centers_[:,1],color = 'red',marker = 'o',label = 'centroid')\n",
    "plt.legend()"
   ]
  },
  {
   "cell_type": "code",
   "execution_count": null,
   "id": "0b1bcd48",
   "metadata": {},
   "outputs": [],
   "source": []
  },
  {
   "cell_type": "code",
   "execution_count": null,
   "id": "d2cd4de4",
   "metadata": {},
   "outputs": [],
   "source": []
  }
 ],
 "metadata": {
  "kernelspec": {
   "display_name": "Python 3 (ipykernel)",
   "language": "python",
   "name": "python3"
  },
  "language_info": {
   "codemirror_mode": {
    "name": "ipython",
    "version": 3
   },
   "file_extension": ".py",
   "mimetype": "text/x-python",
   "name": "python",
   "nbconvert_exporter": "python",
   "pygments_lexer": "ipython3",
   "version": "3.9.13"
  }
 },
 "nbformat": 4,
 "nbformat_minor": 5
}
